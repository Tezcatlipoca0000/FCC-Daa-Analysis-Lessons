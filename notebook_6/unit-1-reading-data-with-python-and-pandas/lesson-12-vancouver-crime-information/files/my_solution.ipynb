{
 "cells": [
  {
   "cell_type": "code",
   "execution_count": 2,
   "metadata": {},
   "outputs": [],
   "source": [
    "import sqlite3\n",
    "import pandas as pd"
   ]
  },
  {
   "cell_type": "code",
   "execution_count": 6,
   "metadata": {},
   "outputs": [
    {
     "data": {
      "text/plain": [
       "<sqlite3.Cursor at 0x7f5402c972c0>"
      ]
     },
     "execution_count": 6,
     "metadata": {},
     "output_type": "execute_result"
    }
   ],
   "source": [
    "con = sqlite3.connect(':memory:')\n",
    "cur = con.cursor()\n",
    "cur.executescript(open('van_crime_2003.sql', 'r').read())"
   ]
  },
  {
   "cell_type": "code",
   "execution_count": 7,
   "metadata": {},
   "outputs": [
    {
     "name": "stdout",
     "output_type": "stream",
     "text": [
      "[('Theft from Vehicle', 2003, 6, 28.0, 13.0, 30.0, '8XX EXPO BLVD', 'Central Business District', 491771.63, 5458295.01), ('Theft from Vehicle', 2003, 11, 17.0, 16.0, 0.0, '56XX OAK ST', 'South Cambie', 490682.32, 5453536.96), ('Theft from Vehicle', 2003, 12, 30.0, 14.0, 0.0, '85XX STANLEY PARK DR', 'Stanley Park', 489104.19, 5460347.36), ('Theft of Vehicle', 2003, 1, 15.0, 14.0, 45.0, '6XX W 41ST AVE', 'Oakridge', 491372.94, 5453422.83), ('Theft from Vehicle', 2003, 12, 28.0, 16.0, 45.0, '85XX STANLEY PARK DR', 'Stanley Park', 489104.19, 5460347.36), ('Theft from Vehicle', 2003, 12, 12.0, 15.0, 30.0, '85XX STANLEY PARK DR', 'Stanley Park', 489104.19, 5460347.36), ('Theft from Vehicle', 2003, 12, 12.0, 13.0, 0.0, '85XX STANLEY PARK DR', 'Stanley Park', 489104.19, 5460347.36), ('Theft of Vehicle', 2003, 1, 19.0, 14.0, 30.0, '6XX W 41ST AVE', 'Oakridge', 491372.94, 5453422.83), ('Theft of Vehicle', 2003, 2, 1.0, 10.0, 0.0, '6XX W 41ST AVE', 'Oakridge', 491372.94, 5453422.83), ('Theft from Vehicle', 2003, 11, 5.0, 16.0, 30.0, '85XX STANLEY PARK DR', 'Stanley Park', 489104.19, 5460347.36), ('Theft from Vehicle', 2003, 10, 25.0, 13.0, 15.0, '85XX STANLEY PARK DR', 'Stanley Park', 489104.19, 5460347.36), ('Theft from Vehicle', 2003, 10, 2.0, 13.0, 15.0, '85XX STANLEY PARK DR', 'Stanley Park', 489104.19, 5460347.36), ('Theft of Vehicle', 2003, 9, 2.0, 21.0, 0.0, '20XX E 28TH AVE', 'Kensington-Cedar Cottage', 495267.03, 5454779.05), ('Theft from Vehicle', 2003, 9, 27.0, 22.0, 30.0, '85XX STANLEY PARK DR', 'Stanley Park', 489104.19, 5460347.36), ('Theft from Vehicle', 2003, 12, 17.0, 21.0, 0.0, '31XX WILLOW ST', 'Fairview', 491115.72, 5456039.96), ('Theft of Vehicle', 2003, 3, 3.0, 0.0, 1.0, '20XX E 28TH AVE', 'Kensington-Cedar Cottage', 495267.03, 5454779.05), ('Theft from Vehicle', 2003, 9, 26.0, 0.0, 1.0, '85XX STANLEY PARK DR', 'Stanley Park', 489104.19, 5460347.36), ('Theft from Vehicle', 2003, 9, 24.0, 11.0, 0.0, '85XX STANLEY PARK DR', 'Stanley Park', 489104.19, 5460347.36), ('Theft from Vehicle', 2003, 9, 1.0, 20.0, 10.0, '85XX STANLEY PARK DR', 'Stanley Park', 489104.19, 5460347.36), ('Theft from Vehicle', 2003, 8, 17.0, 19.0, 0.0, '85XX STANLEY PARK DR', 'Stanley Park', 489104.19, 5460347.36), ('Theft of Vehicle', 2003, 12, 17.0, 17.0, 0.0, '20XX E 26TH AVE', 'Kensington-Cedar Cottage', 495270.76, 5454981.35), ('Break and Enter Residential/Other', 2003, 3, 10.0, 12.0, 0.0, '10XX E GEORGIA ST', 'Strathcona', 494050.84, 5458395.85), ('Theft from Vehicle', 2003, 8, 12.0, 16.0, 45.0, '85XX STANLEY PARK DR', 'Stanley Park', 489104.19, 5460347.36), ('Theft from Vehicle', 2003, 8, 1.0, 16.0, 0.0, '85XX STANLEY PARK DR', 'Stanley Park', 489104.19, 5460347.36), ('Theft from Vehicle', 2003, 7, 24.0, 16.0, 0.0, '85XX STANLEY PARK DR', 'Stanley Park', 489104.19, 5460347.36), ('Theft from Vehicle', 2003, 7, 21.0, 12.0, 0.0, '85XX STANLEY PARK DR', 'Stanley Park', 489104.19, 5460347.36), ('Theft of Vehicle', 2003, 7, 16.0, 6.0, 0.0, '20XX E 23RD AVE', 'Kensington-Cedar Cottage', 495274.53, 5455176.89), ('Theft of Vehicle', 2003, 2, 27.0, 0.0, 30.0, '20XX E 20TH AVE', 'Kensington-Cedar Cottage', 495380.84, 5455513.6), ('Theft from Vehicle', 2003, 7, 10.0, 18.0, 0.0, '85XX STANLEY PARK DR', 'Stanley Park', 489104.19, 5460347.36), ('Theft of Vehicle', 2003, 1, 8.0, 23.0, 30.0, '20XX E 20TH AVE', 'Kensington-Cedar Cottage', 495323.79, 5455541.93), ('Theft of Vehicle', 2003, 9, 30.0, 11.0, 30.0, '20XX E 1ST AVE', 'Grandview-Woodland', 495436.56, 5457427.38), ('Mischief', 2003, 10, 9.0, 21.0, 30.0, '9XX BEATTY ST', 'Central Business District', 491591.17, 5458195.67), ('Theft of Vehicle', 2003, 2, 3.0, 16.0, 10.0, '6XX W 41ST AVE', 'Oakridge', 491372.94, 5453422.83), ('Theft from Vehicle', 2003, 3, 16.0, 18.0, 0.0, '31XX YEW ST', 'Kitsilano', 488689.26, 5456170.64), ('Theft from Vehicle', 2003, 5, 21.0, 19.0, 0.0, '56XX OAK ST', 'South Cambie', 490682.32, 5453536.96), ('Break and Enter Residential/Other', 2003, 5, 14.0, 8.0, 45.0, '10XX E PENDER ST', 'Strathcona', 494055.63, 5458588.06), ('Theft from Vehicle', 2003, 7, 2.0, 14.0, 30.0, '85XX STANLEY PARK DR', 'Stanley Park', 489104.19, 5460347.36), ('Theft of Vehicle', 2003, 2, 3.0, 16.0, 30.0, '6XX W 41ST AVE', 'Oakridge', 491372.94, 5453422.83), ('Theft from Vehicle', 2003, 5, 16.0, 13.0, 0.0, '85XX STANLEY PARK DR', 'Stanley Park', 489104.19, 5460347.36), ('Theft of Vehicle', 2003, 2, 13.0, 21.0, 45.0, '6XX W 41ST AVE', 'Oakridge', 491372.94, 5453422.83), ('Theft of Vehicle', 2003, 2, 22.0, 13.0, 15.0, '6XX W 41ST AVE', 'Oakridge', 491372.94, 5453422.83), ('Theft of Vehicle', 2003, 12, 30.0, 21.0, 0.0, '20XX E 13TH AVE', 'Kensington-Cedar Cottage', 495346.79, 5456204.45), ('Offence Against a Person', 2003, 7, 15.0, None, None, 'OFFSET TO PROTECT PRIVACY', None, 0.0, 0.0), ('Theft of Vehicle', 2003, 12, 18.0, 21.0, 0.0, '20XX E 13TH AVE', 'Kensington-Cedar Cottage', 495346.79, 5456204.45), ('Theft of Vehicle', 2003, 5, 5.0, 22.0, 0.0, '20XX E 13TH AVE', 'Kensington-Cedar Cottage', 495346.79, 5456204.45), ('Theft of Vehicle', 2003, 7, 4.0, 12.0, 0.0, '20XX E 12TH AVE', 'Kensington-Cedar Cottage', 495362.0, 5456304.12), ('Theft of Vehicle', 2003, 3, 10.0, 9.0, 20.0, '6XX W 41ST AVE', 'Oakridge', 491372.94, 5453422.83), ('Theft from Vehicle', 2003, 1, 6.0, 22.0, 0.0, '32XX ADANAC ST', 'Hastings-Sunrise', 497373.96, 5458296.45), ('Theft from Vehicle', 2003, 5, 22.0, 9.0, 0.0, '32XX ADANAC ST', 'Hastings-Sunrise', 497412.61, 5458305.25), ('Offence Against a Person', 2003, 5, 14.0, None, None, 'OFFSET TO PROTECT PRIVACY', None, 0.0, 0.0), ('Theft of Vehicle', 2003, 3, 11.0, 2.0, 0.0, '6XX W 41ST AVE', 'Oakridge', 491372.94, 5453422.83), ('Mischief', 2003, 5, 1.0, 18.0, 0.0, '9XX BROUGHTON ST', 'West End', 490329.61, 5459238.69), ('Mischief', 2003, 6, 28.0, 0.0, 0.0, '9XX BROUGHTON ST', 'West End', 490329.61, 5459238.69), ('Mischief', 2003, 10, 18.0, 5.0, 0.0, '10XX COTTON DR', 'Grandview-Woodland', 494798.57, 5458176.91), ('Theft from Vehicle', 2003, 2, 28.0, 15.0, 0.0, '85XX STANLEY PARK DR', 'Stanley Park', 489104.19, 5460347.36), ('Theft of Vehicle', 2003, 6, 27.0, 15.0, 31.0, '20XX E 10TH AVE', 'Kensington-Cedar Cottage', 495371.39, 5456502.96), ('Theft of Vehicle', 2003, 3, 20.0, 7.0, 30.0, '6XX W 41ST AVE', 'Oakridge', 491372.94, 5453422.83), ('Theft from Vehicle', 2003, 5, 18.0, 17.0, 0.0, '85XX SHAUGHNESSY ST', 'Marpole', 490620.76, 5450708.33), ('Theft of Vehicle', 2003, 4, 4.0, 16.0, 0.0, '6XX W 41ST AVE', 'Oakridge', 491372.94, 5453422.83), ('Theft of Vehicle', 2003, 1, 25.0, 13.0, 30.0, '20XX DUNBAR ST', 'Kitsilano', 486645.14, 5457325.08), ('Break and Enter Residential/Other', 2003, 2, 6.0, 13.0, 0.0, '30XX HEATHER ST', 'Fairview', 491266.05, 5456133.26), ('Break and Enter Residential/Other', 2003, 9, 1.0, 13.0, 0.0, '10XX EXPO BLVD', 'Central Business District', 491544.52, 5458009.74), ('Break and Enter Residential/Other', 2003, 9, 1.0, 14.0, 0.0, '10XX EXPO BLVD', 'Central Business District', 491544.52, 5458009.74), ('Mischief', 2003, 10, 4.0, 9.0, 0.0, '10XX COTTON DR', 'Grandview-Woodland', 494798.57, 5458176.91), ('Theft of Vehicle', 2003, 4, 22.0, 11.0, 0.0, '6XX W 41ST AVE', 'Oakridge', 491372.94, 5453422.83), ('Theft of Vehicle', 2003, 5, 2.0, 12.0, 0.0, '6XX W 41ST AVE', 'Oakridge', 491372.94, 5453422.83), ('Theft of Vehicle', 2003, 6, 21.0, 10.0, 0.0, '20XX COMOX ST', 'West End', 489621.16, 5459767.84), ('Theft of Vehicle', 2003, 5, 29.0, 21.0, 0.0, '20XX COMOX ST', 'West End', 489621.16, 5459767.84), ('Theft of Vehicle', 2003, 5, 12.0, 18.0, 30.0, '20XX COMOX ST', 'West End', 489621.16, 5459767.84), ('Theft of Vehicle', 2003, 5, 9.0, 10.0, 10.0, '6XX W 41ST AVE', 'Oakridge', 491372.94, 5453422.83), ('Theft from Vehicle', 2003, 5, 1.0, 19.0, 0.0, '56XX OAK ST', 'South Cambie', 490682.32, 5453536.96), ('Theft of Vehicle', 2003, 5, 10.0, 15.0, 40.0, '6XX W 41ST AVE', 'Oakridge', 491372.94, 5453422.83), ('Mischief', 2003, 9, 22.0, 11.0, 0.0, '10XX COTTON DR', 'Grandview-Woodland', 494798.57, 5458176.91), ('Break and Enter Residential/Other', 2003, 4, 12.0, 7.0, 0.0, '10XX GILFORD ST', 'West End', 489763.2, 5459711.67), ('Theft of Vehicle', 2003, 5, 12.0, 14.0, 0.0, '6XX W 41ST AVE', 'Oakridge', 491372.94, 5453422.83), ('Theft of Vehicle', 2003, 9, 2.0, 22.0, 0.0, '20XX COMOX ST', 'West End', 489602.49, 5459800.0), ('Theft of Vehicle', 2003, 3, 12.0, 20.0, 0.0, '20XX COMOX ST', 'West End', 489602.49, 5459800.0), ('Theft of Vehicle', 2003, 5, 13.0, 15.0, 30.0, '6XX W 41ST AVE', 'Oakridge', 491372.94, 5453422.83), ('Mischief', 2003, 3, 27.0, 16.0, 30.0, '9XX BURRARD ST', 'West End', 490887.15, 5458782.31), ('Theft of Vehicle', 2003, 5, 16.0, 14.0, 0.0, '6XX W 41ST AVE', 'Oakridge', 491372.94, 5453422.83), ('Mischief', 2003, 8, 10.0, 2.0, 22.0, '10XX COTTON DR', 'Grandview-Woodland', 494798.57, 5458176.91), ('Offence Against a Person', 2003, 8, 3.0, None, None, 'OFFSET TO PROTECT PRIVACY', None, 0.0, 0.0), ('Mischief', 2003, 7, 27.0, 18.0, 30.0, '10XX COTTON DR', 'Grandview-Woodland', 494798.57, 5458176.91), ('Theft of Vehicle', 2003, 3, 9.0, 15.0, 36.0, '20XX COMMERCIAL DR', 'Grandview-Woodland', 494933.8, 5457123.42), ('Theft of Vehicle', 2003, 5, 14.0, 23.0, 0.0, '20XX COMMERCIAL DR', 'Grandview-Woodland', 494933.69, 5457116.79), ('Theft of Vehicle', 2003, 5, 17.0, 11.0, 30.0, '6XX W 41ST AVE', 'Oakridge', 491372.94, 5453422.83), ('Theft of Vehicle', 2003, 5, 18.0, 12.0, 30.0, '6XX W 41ST AVE', 'Oakridge', 491372.94, 5453422.83), ('Theft of Vehicle', 2003, 5, 31.0, 23.0, 30.0, '20XX COLUMBIA ST', 'Mount Pleasant', 492042.4, 5457188.57), ('Theft from Vehicle', 2003, 8, 7.0, 17.0, 0.0, '11XX BARCLAY ST', 'West End', 490719.76, 5458990.73), ('Theft of Vehicle', 2003, 6, 16.0, 22.0, 30.0, '20XX CHARLES ST', 'Grandview-Woodland', 495362.95, 5457801.33), ('Theft of Vehicle', 2003, 1, 21.0, 0.0, 0.0, '20XX CHARLES ST', 'Grandview-Woodland', 495362.95, 5457801.33), ('Theft from Vehicle', 2003, 8, 11.0, 18.0, 30.0, '11XX BARCLAY ST', 'West End', 490719.76, 5458990.73), ('Theft from Vehicle', 2003, 10, 27.0, 20.0, 0.0, '11XX BARCLAY ST', 'West End', 490719.76, 5458990.73), ('Theft from Vehicle', 2003, 11, 2.0, 13.0, 0.0, '11XX BARCLAY ST', 'West End', 490719.76, 5458990.73), ('Theft from Vehicle', 2003, 11, 15.0, 8.0, 9.0, '11XX BARCLAY ST', 'West End', 490719.76, 5458990.73), ('Mischief', 2003, 7, 18.0, 8.0, 0.0, '5XX E 41ST AVE', 'Sunset', 493176.45, 5453348.11), ('Mischief', 2003, 4, 29.0, 19.0, 30.0, '5XX E 41ST AVE', 'Sunset', 493176.45, 5453348.11), ('Theft from Vehicle', 2003, 5, 17.0, 19.0, 0.0, '85XX SELKIRK ST', 'Marpole', 490308.11, 5450671.75), ('Theft from Vehicle', 2003, 3, 4.0, 14.0, 0.0, '5X STANLEY PARK CSWY \"STANLEY PARK\"', 'Stanley Park', 490067.5, 5460237.65), ('Theft from Vehicle', 2003, 3, 17.0, 17.0, 0.0, '5X STANLEY PARK CSWY \"STANLEY PARK\"', 'Stanley Park', 490067.5, 5460237.65), ('Theft from Vehicle', 2003, 4, 22.0, 10.0, 49.0, '5X STANLEY PARK CSWY \"STANLEY PARK\"', 'Stanley Park', 490067.5, 5460237.65), ('Theft from Vehicle', 2003, 4, 24.0, 14.0, 0.0, '5X STANLEY PARK CSWY \"STANLEY PARK\"', 'Stanley Park', 490067.5, 5460237.65), ('Theft from Vehicle', 2003, 10, 28.0, 22.0, 30.0, '85XX OSLER ST', 'Marpole', 490420.2, 5450728.81), ('Theft of Vehicle', 2003, 5, 18.0, 14.0, 36.0, '6XX W 41ST AVE', 'Oakridge', 491372.94, 5453422.83), ('Theft from Vehicle', 2003, 4, 18.0, 0.0, 0.0, '56XX OAK ST', 'South Cambie', 490682.32, 5453536.96), ('Vehicle Collision or Pedestrian Struck (with Injury)', 2003, 12, 24.0, 19.0, 0.0, 'E 12TH AVE / VICTORIA DR', 'Kensington-Cedar Cottage', 495201.0, 5456310.0), ('Theft of Vehicle', 2003, 5, 19.0, 17.0, 30.0, '6XX W 41ST AVE', 'Oakridge', 491372.94, 5453422.83), ('Mischief', 2003, 8, 16.0, 19.0, 50.0, '5XX E 41ST AV', 'Sunset', 493247.08, 5453341.15), ('Theft from Vehicle', 2003, 4, 10.0, 17.0, 0.0, '56XX OAK ST', 'South Cambie', 490682.32, 5453536.96), ('Theft from Vehicle', 2003, 6, 20.0, 20.0, 30.0, '85XX LIGHTHOUSE WAY', 'Killarney', 496436.44, 5450343.65), ('Theft from Vehicle', 2003, 5, 6.0, 7.0, 0.0, '4XX SEMLIN DR', 'Grandview-Woodland', 495376.36, 5458711.76), ('Theft from Vehicle', 2003, 6, 19.0, 20.0, 0.0, '85XX LIGHTHOUSE WAY', 'Killarney', 496436.21, 5450361.0), ('Theft from Vehicle', 2003, 6, 9.0, 15.0, 0.0, '48XX CAMBIE ST', 'Riley Park', 491398.11, 5454383.43), ('Theft from Vehicle', 2003, 2, 1.0, 13.0, 30.0, '5X UNION ST', 'Central Business District', 492494.26, 5458318.45), ('Theft from Vehicle', 2003, 4, 27.0, 11.0, 0.0, '5X UNION ST', 'Central Business District', 492495.38, 5458327.53), ('Theft from Vehicle', 2003, 9, 4.0, 1.0, 55.0, '5X UNION ST', 'Central Business District', 492495.38, 5458327.53), ('Theft from Vehicle', 2003, 10, 2.0, 17.0, 15.0, '5X UNION ST', 'Central Business District', 492495.38, 5458327.53), ('Theft from Vehicle', 2003, 12, 27.0, 16.0, 45.0, '5X UNION ST', 'Central Business District', 492495.38, 5458327.53), ('Break and Enter Residential/Other', 2003, 4, 13.0, 9.0, 0.0, '10XX GRANVILLE ST', 'Central Business District', 491000.32, 5458448.65), ('Break and Enter Residential/Other', 2003, 6, 3.0, 0.0, 0.0, '10XX GRANVILLE ST', 'Central Business District', 491000.32, 5458448.65), ('Break and Enter Residential/Other', 2003, 6, 14.0, 22.0, 0.0, '10XX GRANVILLE ST', 'Central Business District', 491000.32, 5458448.65), ('Theft from Vehicle', 2003, 8, 17.0, 15.0, 30.0, '5X UNION ST', 'Central Business District', 492503.23, 5458326.51), ('Break and Enter Residential/Other', 2003, 9, 17.0, 23.0, 11.0, '10XX GRANVILLE ST', 'Central Business District', 491000.32, 5458448.65), ('Theft from Vehicle', 2003, 4, 10.0, 12.0, 0.0, '5X W 10TH AV', 'Mount Pleasant', 492294.11, 5456601.61), ('Vehicle Collision or Pedestrian Struck (with Injury)', 2003, 1, 30.0, 17.0, 30.0, 'E 12TH AVE / ST CATHERINES ST', 'Mount Pleasant', 493791.0, 5456330.0), ('Mischief', 2003, 4, 29.0, 20.0, 30.0, '10XX COTTON DR', 'Grandview-Woodland', 494798.57, 5458176.91), ('Vehicle Collision or Pedestrian Struck (with Injury)', 2003, 1, 12.0, 23.0, 45.0, 'E 12TH AVE / ST CATHERINES ST', 'Mount Pleasant', 493791.0, 5456330.0), ('Theft of Vehicle', 2003, 4, 24.0, 15.0, 0.0, '20XX BEACH AVE', 'West End', 489366.0, 5459777.69), ('Mischief', 2003, 4, 13.0, 3.0, 0.0, '10XX COTTON DR', 'Grandview-Woodland', 494798.57, 5458176.91), ('Break and Enter Residential/Other', 2003, 6, 4.0, 20.0, 10.0, '30XX KINGSWAY AVE', 'Renfrew-Collingwood', 496941.9, 5453677.36), ('Theft of Vehicle', 2003, 6, 30.0, 21.0, 0.0, '20XX BAYSWATER ST', 'Kitsilano', 487559.08, 5457304.49), ('Break and Enter Residential/Other', 2003, 6, 8.0, 22.0, 55.0, '30XX KINGSWAY AVE', 'Renfrew-Collingwood', 496989.77, 5453670.43), ('Mischief', 2003, 1, 20.0, 17.0, 15.0, '9XX BURRARD ST', 'Central Business District', 490952.14, 5458832.44), ('Mischief', 2003, 11, 29.0, 17.0, 12.0, '9XX BURRARD ST', 'Central Business District', 490952.14, 5458832.44), ('Mischief', 2003, 7, 25.0, 17.0, 30.0, '5XX E 31ST AVE', 'Riley Park', 493250.78, 5454437.25), ('Theft from Vehicle', 2003, 1, 1.0, 15.0, 30.0, '5X W 11TH AVE', 'Mount Pleasant', 492289.5, 5456500.47), ('Theft from Vehicle', 2003, 9, 8.0, 20.0, 30.0, '5X W 11TH AVE', 'Mount Pleasant', 492289.5, 5456500.47), ('Theft of Vehicle', 2003, 5, 24.0, 15.0, 30.0, '6XX W 41ST AVE', 'Oakridge', 491372.94, 5453422.83), ('Theft of Vehicle', 2003, 6, 5.0, 17.0, 30.0, '6XX W 41ST AVE', 'Oakridge', 491372.94, 5453422.83), ('Theft of Vehicle', 2003, 6, 14.0, 11.0, 0.0, '6XX W 41ST AVE', 'Oakridge', 491372.94, 5453422.83), ('Mischief', 2003, 1, 17.0, 11.0, 0.0, '10XX COTTON DR', 'Grandview-Woodland', 494798.57, 5458176.91), ('Theft of Vehicle', 2003, 6, 17.0, 15.0, 0.0, '6XX W 41ST AVE', 'Oakridge', 491372.94, 5453422.83), ('Offence Against a Person', 2003, 6, 19.0, None, None, 'OFFSET TO PROTECT PRIVACY', None, 0.0, 0.0), ('Theft from Vehicle', 2003, 2, 4.0, 18.0, 30.0, '32XX ADANAC ST', 'Hastings-Sunrise', 497521.27, 5458304.29), ('Theft from Vehicle', 2003, 11, 14.0, 10.0, 0.0, '32XX ARBUTUS ST', 'Arbutus Ridge', 488870.0, 5456063.8), ('Offence Against a Person', 2003, 6, 19.0, None, None, 'OFFSET TO PROTECT PRIVACY', None, 0.0, 0.0), ('Mischief', 2003, 1, 3.0, 3.0, 0.0, '5XX E 30TH AVE', 'Riley Park', 493182.37, 5454533.29), ('Theft of Vehicle', 2003, 6, 17.0, 18.0, 0.0, '6XX W 41ST AVE', 'Oakridge', 491372.94, 5453422.83), ('Theft of Vehicle', 2003, 7, 26.0, 12.0, 0.0, '6XX W 41ST AVE', 'Oakridge', 491372.94, 5453422.83), ('Theft from Vehicle', 2003, 12, 16.0, 14.0, 0.0, '10XX SMITHE ST', 'West End', 490890.02, 5458931.84), ('Theft from Vehicle', 2003, 6, 9.0, 16.0, 0.0, '48XX CAMBIE ST', 'Riley Park', 491398.11, 5454383.43), ('Theft from Vehicle', 2003, 1, 1.0, 12.0, 0.0, '32XX ASH ST', 'South Cambie', 491399.11, 5456000.37), ('Theft from Vehicle', 2003, 6, 19.0, 5.0, 17.0, '32XX BURRARD ST', 'Shaughnessy', 489382.23, 5456050.67), ('Theft of Vehicle', 2003, 7, 27.0, 15.0, 30.0, '6XX W 41ST AVE', 'Oakridge', 491372.94, 5453422.83), ('Theft from Vehicle', 2003, 3, 20.0, 18.0, 35.0, '32XX CAMBIE ST', 'Riley Park', 491632.41, 5456016.64), ('Theft from Vehicle', 2003, 10, 29.0, 16.0, 30.0, '85XX FREMLIN ST', 'Marpole', 490720.08, 5450721.0), ('Theft of Vehicle', 2003, 7, 28.0, 15.0, 30.0, '6XX W 41ST AVE', 'Oakridge', 491372.94, 5453422.83), ('Theft from Vehicle', 2003, 10, 24.0, 20.0, 0.0, '5X W 13TH AVE', 'Mount Pleasant', 492281.78, 5456290.21), ('Theft from Vehicle', 2003, 9, 5.0, 22.0, 30.0, '5X W 13TH AVE', 'Mount Pleasant', 492282.02, 5456299.35), ('Theft of Vehicle', 2003, 3, 1.0, 12.0, 0.0, '20XX BARCLAY ST', 'West End', 489775.16, 5459925.99), ('Theft of Vehicle', 2003, 2, 9.0, 11.0, 0.0, '20XX BARCLAY ST', 'West End', 489775.16, 5459925.99), ('Theft from Vehicle', 2003, 12, 19.0, 16.0, 0.0, '5X W 14TH AVE', 'Mount Pleasant', 492281.22, 5456200.35), ('Break and Enter Residential/Other', 2003, 11, 13.0, 10.0, 50.0, '10XX GRANVILLE ST', 'Central Business District', 491027.56, 5458476.5), ('Theft of Vehicle', 2003, 1, 16.0, 8.0, 45.0, '20XX BARCLAY ST', 'West End', 489775.16, 5459925.99), ('Break and Enter Residential/Other', 2003, 3, 25.0, 15.0, 0.0, '10XX GRANVILLE ST', 'Central Business District', 491029.66, 5458478.64), ('Theft from Vehicle', 2003, 5, 23.0, 8.0, 45.0, '5X W 15TH AVE', 'Mount Pleasant', 492275.87, 5456100.86), ('Break and Enter Residential/Other', 2003, 10, 26.0, 4.0, 0.0, '10XX GRANVILLE ST', 'Central Business District', 491029.66, 5458478.64), ('Theft of Vehicle', 2003, 4, 7.0, 15.0, 30.0, '20XX BARCLAY ST', 'West End', 489748.44, 5459955.37), ('Theft of Vehicle', 2003, 9, 1.0, 15.0, 0.0, '6XX W 41ST AVE', 'Oakridge', 491372.94, 5453422.83), ('Theft of Vehicle', 2003, 9, 5.0, 7.0, 30.0, '6XX W 41ST AVE', 'Oakridge', 491372.94, 5453422.83), ('Theft from Vehicle', 2003, 9, 12.0, 13.0, 0.0, '32XX CELTIC AVE', 'Kerrisdale', 487159.98, 5451680.73), ('Theft of Vehicle', 2003, 9, 18.0, 11.0, 0.0, '6XX W 41ST AVE', 'Oakridge', 491372.94, 5453422.83), ('Theft of Vehicle', 2003, 4, 4.0, 18.0, 0.0, '20XX BARCLAY ST', 'West End', 489748.44, 5459955.37), ('Theft of Vehicle', 2003, 9, 23.0, 8.0, 30.0, '6XX W 41ST AVE', 'Oakridge', 491372.94, 5453422.83), ('Theft of Vehicle', 2003, 10, 7.0, 14.0, 0.0, '20XX BALSAM ST', 'Kitsilano', 488375.78, 5457283.82), ('Theft of Vehicle', 2003, 5, 17.0, 13.0, 30.0, '20XX BALSAM ST', 'Kitsilano', 488375.78, 5457283.82), ('Theft of Vehicle', 2003, 1, 10.0, 8.0, 30.0, '20XX ALMA ST', 'Kitsilano', 486496.01, 5457327.96), ('Mischief', 2003, 6, 25.0, 15.0, 0.0, '5XX E 29TH AVE', 'Riley Park', 493160.7, 5454645.38), ('Break and Enter Residential/Other', 2003, 10, 24.0, 9.0, 25.0, '3XX E 43RD AVE', 'Sunset', 492767.22, 5453150.72), ('Theft of Vehicle', 2003, 2, 3.0, 9.0, 5.0, '20XX ALMA ST', 'West Point Grey', 486484.45, 5457256.73), ('Break and Enter Residential/Other', 2003, 4, 6.0, 21.0, 0.0, '10XX HAMILTON ST', 'Central Business District', 491229.78, 5458167.04), ('Mischief', 2003, 8, 12.0, 12.0, 22.0, '10XX COMOX ST', 'West End', 490746.9, 5458647.95), ('Theft of Vehicle', 2003, 10, 6.0, 14.0, 30.0, '6XX W 41ST AVE', 'Oakridge', 491372.94, 5453422.83), ('Theft of Vehicle', 2003, 12, 27.0, 21.0, 0.0, '20XX ADANAC ST', 'Grandview-Woodland', 495373.9, 5458302.62), ('Theft of Vehicle', 2003, 4, 2.0, 1.0, 0.0, '20O N NANAIMO ST', 'Hastings-Sunrise', 495893.77, 5459139.45), ('Theft of Vehicle', 2003, 10, 29.0, 9.0, 30.0, '6XX W 41ST AVE', 'Oakridge', 491372.94, 5453422.83), ('Theft of Vehicle', 2003, 11, 12.0, 7.0, 0.0, '6XX W 41ST AVE', 'Oakridge', 491372.94, 5453422.83), ('Break and Enter Residential/Other', 2003, 8, 23.0, 15.0, 32.0, '30XX KITCHENER ST', 'Hastings-Sunrise', 497089.09, 5457720.94), ('Theft of Vehicle', 2003, 9, 21.0, 2.0, 0.0, '1XX WATER ST', 'Central Business District', 492251.04, 5459018.89), ('Theft from Vehicle', 2003, 12, 2.0, 22.0, 0.0, '32XX COLERIDGE AVE', 'Killarney', 497185.65, 5452601.27), ('Theft of Vehicle', 2003, 3, 26.0, 23.0, 0.0, '1XX WATER ST', 'Central Business District', 492227.15, 5459025.27), ('Theft of Vehicle', 2003, 12, 3.0, 13.0, 0.0, '6XX W 41ST AVE', 'Oakridge', 491372.94, 5453422.83), ('Theft of Vehicle', 2003, 12, 5.0, 13.0, 0.0, '6XX W 41ST AVE', 'Oakridge', 491372.94, 5453422.83), ('Theft from Vehicle', 2003, 6, 16.0, 14.0, 0.0, '32XX COLLINGWOOD ST', 'Dunbar-Southlands', 486773.15, 5456127.38), ('Theft of Vehicle', 2003, 12, 7.0, 11.0, 50.0, '6XX W 41ST AVE', 'Oakridge', 491372.94, 5453422.83), ('Theft of Vehicle', 2003, 12, 13.0, 14.0, 0.0, '6XX W 41ST AVE', 'Oakridge', 491372.94, 5453422.83), ('Break and Enter Residential/Other', 2003, 2, 14.0, 12.0, 0.0, '10XX HARO ST', 'West End', 490899.23, 5458973.86), ('Break and Enter Residential/Other', 2003, 5, 13.0, 11.0, 30.0, '10XX HARO ST', 'West End', 490899.23, 5458973.86), ('Break and Enter Residential/Other', 2003, 6, 4.0, 5.0, 12.0, '10XX HARO ST', 'West End', 490899.23, 5458973.86), ('Break and Enter Residential/Other', 2003, 6, 25.0, 16.0, 30.0, '10XX HARO ST', 'West End', 490899.23, 5458973.86), ('Theft of Vehicle', 2003, 11, 24.0, 4.0, 46.0, '1XX W PENDER ST', 'Central Business District', 492171.05, 5458703.31), ('Theft of Vehicle', 2003, 9, 27.0, 0.0, 31.0, '1XX W PENDER ST', 'Central Business District', 492171.05, 5458703.31), ('Theft of Vehicle', 2003, 9, 7.0, 18.0, 0.0, '1XX W PENDER ST', 'Central Business District', 492171.05, 5458703.31), ('Theft of Vehicle', 2003, 5, 17.0, 19.0, 45.0, '1XX W PENDER ST', 'Central Business District', 492171.05, 5458703.31), ('Break and Enter Residential/Other', 2003, 10, 16.0, 13.0, 10.0, '10XX HARO ST', 'West End', 490899.23, 5458973.86), ('Break and Enter Residential/Other', 2003, 12, 16.0, 3.0, 0.0, '10XX HARO ST', 'West End', 490899.23, 5458973.86), ('Theft from Vehicle', 2003, 3, 22.0, 19.0, 0.0, '32XX COMMERCIAL DR', 'Kensington-Cedar Cottage', 494928.19, 5455946.19), ('Vehicle Collision or Pedestrian Struck (with Injury)', 2003, 1, 1.0, 2.0, 10.0, '16XX BLOCK E 20TH AVE', 'Kensington-Cedar Cottage', 494781.0, 5455506.0), ('Mischief', 2003, 2, 23.0, 19.0, 0.0, '5XX E 15TH AVE', 'Mount Pleasant', 493297.52, 5456053.61), ('Theft of Vehicle', 2003, 12, 14.0, 13.0, 0.0, '6XX W 41ST AVE', 'Oakridge', 491397.53, 5453421.39), ('Theft of Vehicle', 2003, 1, 19.0, 0.0, 30.0, '6XX W 45TH AVE', 'Oakridge', 491405.69, 5453012.38), ('Mischief', 2003, 1, 23.0, 20.0, 0.0, '9XX BUTE ST', 'West End', 490544.46, 5459030.37), ('Theft of Vehicle', 2003, 5, 26.0, 21.0, 30.0, '6XX W 45TH AVE', 'Oakridge', 491405.69, 5453012.38), ('Theft from Vehicle', 2003, 8, 15.0, 15.0, 30.0, '4XX SEMLIN DR', 'Grandview-Woodland', 495376.36, 5458711.76), ('Break and Enter Residential/Other', 2003, 10, 8.0, 18.0, 0.0, '42XX W 11TH AVE', 'West Point Grey', 485428.3, 5456693.38), ('Theft from Vehicle', 2003, 11, 16.0, 11.0, 0.0, '85XX CAMBIE ST', 'Marpole', 491467.42, 5450647.05), ('Theft from Vehicle', 2003, 12, 11.0, 0.0, 0.0, '32XX COMMERCIAL DR', 'Kensington-Cedar Cottage', 494928.19, 5455946.19), ('Theft of Vehicle', 2003, 6, 17.0, 17.0, 0.0, '6XX W 45TH AVE', 'Oakridge', 491405.69, 5453012.38), ('Theft from Vehicle', 2003, 12, 26.0, 15.0, 0.0, '11XX BARCLAY ST', 'West End', 490720.49, 5459002.99), ('Theft from Vehicle', 2003, 10, 27.0, 18.0, 0.0, '85XX CAMBIE ST', 'Marpole', 491467.42, 5450647.05), ('Theft from Vehicle', 2003, 11, 19.0, 9.0, 0.0, '85XX CAMBIE ST', 'Marpole', 491458.63, 5450662.5), ('Break and Enter Residential/Other', 2003, 11, 27.0, 8.0, 30.0, '10XX HARO ST', 'West End', 490907.03, 5458966.12), ('Mischief', 2003, 3, 8.0, 6.0, 8.0, '10XX COMOX ST', 'West End', 490699.52, 5458708.2), ('Break and Enter Residential/Other', 2003, 12, 3.0, 20.0, 42.0, '30XX KNIGHT ST', 'Mount Pleasant', 494440.98, 5456067.19), ('Mischief', 2003, 1, 5.0, 21.0, 0.0, '5XX E 13TH AVE', 'Mount Pleasant', 493235.1, 5456228.79), ('Theft of Vehicle', 2003, 7, 16.0, 22.0, 0.0, '6XX W 57TH AVE', 'Marpole', 491358.16, 5451812.43), ('Theft of Vehicle', 2003, 8, 12.0, 18.0, 0.0, '6XX W 57TH AVE', 'Marpole', 491358.16, 5451812.43), ('Mischief', 2003, 10, 26.0, 19.0, 0.0, '5XX E 11TH AVE', 'Mount Pleasant', 493237.91, 5456431.6), ('Mischief', 2003, 7, 17.0, 8.0, 30.0, '5XX E 11TH AVE', 'Mount Pleasant', 493237.91, 5456431.6), ('Mischief', 2003, 11, 9.0, 5.0, 0.0, '10XX COMOX ST', 'West End', 490671.52, 5458723.24), ('Theft of Vehicle', 2003, 9, 23.0, 16.0, 0.0, '6XX W 57TH AVE', 'Marpole', 491358.16, 5451812.43), ('Theft of Vehicle', 2003, 11, 8.0, 7.0, 0.0, '6XX W 57TH AVE', 'Marpole', 491358.16, 5451812.43), ('Break and Enter Residential/Other', 2003, 1, 24.0, 7.0, 45.0, '10XX HARWOOD ST', 'West End', 490333.13, 5458440.8), ('Theft of Vehicle', 2003, 12, 18.0, 13.0, 30.0, '1XX W PENDER ST', 'Central Business District', 492073.21, 5458730.26), ('Theft from Vehicle', 2003, 9, 29.0, 23.0, 26.0, '84XX VICTORIA DR', 'Victoria-Fraserview', 495186.46, 5450567.37), ('Break and Enter Residential/Other', 2003, 1, 27.0, 15.0, 45.0, '10XX HARWOOD ST', 'West End', 490348.95, 5458424.69), ('Theft of Vehicle', 2003, 7, 9.0, 22.0, 0.0, '6XX W 6TH AVE', 'Fairview', 491448.97, 5457012.29), ('Theft of Vehicle', 2003, 7, 14.0, 23.0, 59.0, '6XX W 7TH AVE', 'Fairview', 491386.59, 5456921.15), ('Mischief', 2003, 2, 28.0, 22.0, 0.0, '5XX DUNSMUIR ST', 'Central Business District', 491675.71, 5458858.96), ('Theft of Vehicle', 2003, 11, 24.0, 12.0, 0.0, '6XX W 7TH AVE', 'Fairview', 491446.64, 5456919.13), ('Theft of Vehicle', 2003, 1, 14.0, 18.0, 0.0, '6XX W 8TH AVE', 'Fairview', 491445.25, 5456826.01), ('Break and Enter Residential/Other', 2003, 1, 23.0, 10.0, 0.0, '10XX HARWOOD ST', 'West End', 490370.04, 5458403.21), ('Break and Enter Residential/Other', 2003, 2, 2.0, 13.0, 0.0, '10XX HARWOOD ST', 'West End', 490370.04, 5458403.21), ('Break and Enter Residential/Other', 2003, 2, 12.0, 18.0, 0.0, '10XX HARWOOD ST', 'West End', 490370.04, 5458403.21), ('Theft of Vehicle', 2003, 12, 17.0, 17.0, 0.0, '1XX W KENT S AV', 'Marpole', 492065.05, 5450413.09), ('Break and Enter Residential/Other', 2003, 2, 15.0, 8.0, 0.0, '10XX HARWOOD ST', 'West End', 490370.04, 5458403.21), ('Break and Enter Residential/Other', 2003, 6, 11.0, 15.0, 45.0, '10XX HARWOOD ST', 'West End', 490370.04, 5458403.21), ('Theft of Vehicle', 2003, 4, 1.0, 21.0, 0.0, '6XX W 8TH AVE', 'Fairview', 491445.25, 5456826.01), ('Theft of Vehicle', 2003, 8, 29.0, 23.0, 0.0, '6XX W 8TH AVE', 'Fairview', 491445.25, 5456826.01), ('Theft of Vehicle', 2003, 2, 6.0, 9.0, 10.0, '6XX W CORDOVA ST', 'Central Business District', 491865.24, 5459187.85)]\n"
     ]
    }
   ],
   "source": [
    "cur.execute(\"SELECT * FROM van_crimes;\")\n",
    "res = cur.fetchall()\n",
    "print(res)"
   ]
  },
  {
   "cell_type": "code",
   "execution_count": 9,
   "metadata": {},
   "outputs": [
    {
     "data": {
      "text/html": [
       "<div>\n",
       "<style scoped>\n",
       "    .dataframe tbody tr th:only-of-type {\n",
       "        vertical-align: middle;\n",
       "    }\n",
       "\n",
       "    .dataframe tbody tr th {\n",
       "        vertical-align: top;\n",
       "    }\n",
       "\n",
       "    .dataframe thead th {\n",
       "        text-align: right;\n",
       "    }\n",
       "</style>\n",
       "<table border=\"1\" class=\"dataframe\">\n",
       "  <thead>\n",
       "    <tr style=\"text-align: right;\">\n",
       "      <th></th>\n",
       "      <th>0</th>\n",
       "      <th>1</th>\n",
       "      <th>2</th>\n",
       "      <th>3</th>\n",
       "      <th>4</th>\n",
       "      <th>5</th>\n",
       "      <th>6</th>\n",
       "      <th>7</th>\n",
       "      <th>8</th>\n",
       "      <th>9</th>\n",
       "    </tr>\n",
       "  </thead>\n",
       "  <tbody>\n",
       "    <tr>\n",
       "      <th>0</th>\n",
       "      <td>Theft from Vehicle</td>\n",
       "      <td>2003</td>\n",
       "      <td>6</td>\n",
       "      <td>28.0</td>\n",
       "      <td>13.0</td>\n",
       "      <td>30.0</td>\n",
       "      <td>8XX EXPO BLVD</td>\n",
       "      <td>Central Business District</td>\n",
       "      <td>491771.63</td>\n",
       "      <td>5458295.01</td>\n",
       "    </tr>\n",
       "    <tr>\n",
       "      <th>1</th>\n",
       "      <td>Theft from Vehicle</td>\n",
       "      <td>2003</td>\n",
       "      <td>11</td>\n",
       "      <td>17.0</td>\n",
       "      <td>16.0</td>\n",
       "      <td>0.0</td>\n",
       "      <td>56XX OAK ST</td>\n",
       "      <td>South Cambie</td>\n",
       "      <td>490682.32</td>\n",
       "      <td>5453536.96</td>\n",
       "    </tr>\n",
       "    <tr>\n",
       "      <th>2</th>\n",
       "      <td>Theft from Vehicle</td>\n",
       "      <td>2003</td>\n",
       "      <td>12</td>\n",
       "      <td>30.0</td>\n",
       "      <td>14.0</td>\n",
       "      <td>0.0</td>\n",
       "      <td>85XX STANLEY PARK DR</td>\n",
       "      <td>Stanley Park</td>\n",
       "      <td>489104.19</td>\n",
       "      <td>5460347.36</td>\n",
       "    </tr>\n",
       "    <tr>\n",
       "      <th>3</th>\n",
       "      <td>Theft of Vehicle</td>\n",
       "      <td>2003</td>\n",
       "      <td>1</td>\n",
       "      <td>15.0</td>\n",
       "      <td>14.0</td>\n",
       "      <td>45.0</td>\n",
       "      <td>6XX W 41ST AVE</td>\n",
       "      <td>Oakridge</td>\n",
       "      <td>491372.94</td>\n",
       "      <td>5453422.83</td>\n",
       "    </tr>\n",
       "    <tr>\n",
       "      <th>4</th>\n",
       "      <td>Theft from Vehicle</td>\n",
       "      <td>2003</td>\n",
       "      <td>12</td>\n",
       "      <td>28.0</td>\n",
       "      <td>16.0</td>\n",
       "      <td>45.0</td>\n",
       "      <td>85XX STANLEY PARK DR</td>\n",
       "      <td>Stanley Park</td>\n",
       "      <td>489104.19</td>\n",
       "      <td>5460347.36</td>\n",
       "    </tr>\n",
       "  </tbody>\n",
       "</table>\n",
       "</div>"
      ],
      "text/plain": [
       "                    0     1   2     3     4     5                     6  \\\n",
       "0  Theft from Vehicle  2003   6  28.0  13.0  30.0         8XX EXPO BLVD   \n",
       "1  Theft from Vehicle  2003  11  17.0  16.0   0.0           56XX OAK ST   \n",
       "2  Theft from Vehicle  2003  12  30.0  14.0   0.0  85XX STANLEY PARK DR   \n",
       "3    Theft of Vehicle  2003   1  15.0  14.0  45.0        6XX W 41ST AVE   \n",
       "4  Theft from Vehicle  2003  12  28.0  16.0  45.0  85XX STANLEY PARK DR   \n",
       "\n",
       "                           7          8           9  \n",
       "0  Central Business District  491771.63  5458295.01  \n",
       "1               South Cambie  490682.32  5453536.96  \n",
       "2               Stanley Park  489104.19  5460347.36  \n",
       "3                   Oakridge  491372.94  5453422.83  \n",
       "4               Stanley Park  489104.19  5460347.36  "
      ]
     },
     "execution_count": 9,
     "metadata": {},
     "output_type": "execute_result"
    }
   ],
   "source": [
    "df = pd.DataFrame(res)\n",
    "df.head()"
   ]
  },
  {
   "cell_type": "code",
   "execution_count": 11,
   "metadata": {},
   "outputs": [
    {
     "data": {
      "text/html": [
       "<div>\n",
       "<style scoped>\n",
       "    .dataframe tbody tr th:only-of-type {\n",
       "        vertical-align: middle;\n",
       "    }\n",
       "\n",
       "    .dataframe tbody tr th {\n",
       "        vertical-align: top;\n",
       "    }\n",
       "\n",
       "    .dataframe thead th {\n",
       "        text-align: right;\n",
       "    }\n",
       "</style>\n",
       "<table border=\"1\" class=\"dataframe\">\n",
       "  <thead>\n",
       "    <tr style=\"text-align: right;\">\n",
       "      <th></th>\n",
       "      <th>TYPE</th>\n",
       "      <th>YEAR</th>\n",
       "      <th>MONTH</th>\n",
       "      <th>DAY</th>\n",
       "      <th>HOUR</th>\n",
       "      <th>MINUTE</th>\n",
       "      <th>HUNDRED_BLOCK</th>\n",
       "      <th>NEIGHBOURHOOD</th>\n",
       "      <th>X</th>\n",
       "      <th>Y</th>\n",
       "    </tr>\n",
       "  </thead>\n",
       "  <tbody>\n",
       "    <tr>\n",
       "      <th>0</th>\n",
       "      <td>Theft from Vehicle</td>\n",
       "      <td>2003</td>\n",
       "      <td>6</td>\n",
       "      <td>28.0</td>\n",
       "      <td>13.0</td>\n",
       "      <td>30.0</td>\n",
       "      <td>8XX EXPO BLVD</td>\n",
       "      <td>Central Business District</td>\n",
       "      <td>491771.63</td>\n",
       "      <td>5458295.01</td>\n",
       "    </tr>\n",
       "    <tr>\n",
       "      <th>1</th>\n",
       "      <td>Theft from Vehicle</td>\n",
       "      <td>2003</td>\n",
       "      <td>11</td>\n",
       "      <td>17.0</td>\n",
       "      <td>16.0</td>\n",
       "      <td>0.0</td>\n",
       "      <td>56XX OAK ST</td>\n",
       "      <td>South Cambie</td>\n",
       "      <td>490682.32</td>\n",
       "      <td>5453536.96</td>\n",
       "    </tr>\n",
       "    <tr>\n",
       "      <th>2</th>\n",
       "      <td>Theft from Vehicle</td>\n",
       "      <td>2003</td>\n",
       "      <td>12</td>\n",
       "      <td>30.0</td>\n",
       "      <td>14.0</td>\n",
       "      <td>0.0</td>\n",
       "      <td>85XX STANLEY PARK DR</td>\n",
       "      <td>Stanley Park</td>\n",
       "      <td>489104.19</td>\n",
       "      <td>5460347.36</td>\n",
       "    </tr>\n",
       "    <tr>\n",
       "      <th>3</th>\n",
       "      <td>Theft of Vehicle</td>\n",
       "      <td>2003</td>\n",
       "      <td>1</td>\n",
       "      <td>15.0</td>\n",
       "      <td>14.0</td>\n",
       "      <td>45.0</td>\n",
       "      <td>6XX W 41ST AVE</td>\n",
       "      <td>Oakridge</td>\n",
       "      <td>491372.94</td>\n",
       "      <td>5453422.83</td>\n",
       "    </tr>\n",
       "    <tr>\n",
       "      <th>4</th>\n",
       "      <td>Theft from Vehicle</td>\n",
       "      <td>2003</td>\n",
       "      <td>12</td>\n",
       "      <td>28.0</td>\n",
       "      <td>16.0</td>\n",
       "      <td>45.0</td>\n",
       "      <td>85XX STANLEY PARK DR</td>\n",
       "      <td>Stanley Park</td>\n",
       "      <td>489104.19</td>\n",
       "      <td>5460347.36</td>\n",
       "    </tr>\n",
       "  </tbody>\n",
       "</table>\n",
       "</div>"
      ],
      "text/plain": [
       "                 TYPE  YEAR  MONTH   DAY  HOUR  MINUTE         HUNDRED_BLOCK  \\\n",
       "0  Theft from Vehicle  2003      6  28.0  13.0    30.0         8XX EXPO BLVD   \n",
       "1  Theft from Vehicle  2003     11  17.0  16.0     0.0           56XX OAK ST   \n",
       "2  Theft from Vehicle  2003     12  30.0  14.0     0.0  85XX STANLEY PARK DR   \n",
       "3    Theft of Vehicle  2003      1  15.0  14.0    45.0        6XX W 41ST AVE   \n",
       "4  Theft from Vehicle  2003     12  28.0  16.0    45.0  85XX STANLEY PARK DR   \n",
       "\n",
       "               NEIGHBOURHOOD          X           Y  \n",
       "0  Central Business District  491771.63  5458295.01  \n",
       "1               South Cambie  490682.32  5453536.96  \n",
       "2               Stanley Park  489104.19  5460347.36  \n",
       "3                   Oakridge  491372.94  5453422.83  \n",
       "4               Stanley Park  489104.19  5460347.36  "
      ]
     },
     "execution_count": 11,
     "metadata": {},
     "output_type": "execute_result"
    }
   ],
   "source": [
    "df2 = pd.read_sql_query(\"SELECT * FROM van_crimes;\", con=con)\n",
    "df2.head()"
   ]
  },
  {
   "cell_type": "code",
   "execution_count": 15,
   "metadata": {},
   "outputs": [
    {
     "name": "stdout",
     "output_type": "stream",
     "text": [
      "<class 'pandas.core.frame.DataFrame'>\n",
      "RangeIndex: 250 entries, 0 to 249\n",
      "Data columns (total 10 columns):\n",
      " #   Column         Non-Null Count  Dtype  \n",
      "---  ------         --------------  -----  \n",
      " 0   TYPE           250 non-null    object \n",
      " 1   YEAR           250 non-null    int64  \n",
      " 2   MONTH          250 non-null    int64  \n",
      " 3   DAY            250 non-null    float64\n",
      " 4   HOUR           245 non-null    float64\n",
      " 5   MINUTE         245 non-null    float64\n",
      " 6   HUNDRED_BLOCK  250 non-null    object \n",
      " 7   NEIGHBOURHOOD  245 non-null    object \n",
      " 8   X              250 non-null    float64\n",
      " 9   Y              250 non-null    float64\n",
      "dtypes: float64(5), int64(2), object(3)\n",
      "memory usage: 19.7+ KB\n"
     ]
    }
   ],
   "source": [
    "df2.info()"
   ]
  },
  {
   "cell_type": "code",
   "execution_count": 14,
   "metadata": {},
   "outputs": [
    {
     "name": "stdout",
     "output_type": "stream",
     "text": [
      "<class 'pandas.core.frame.DataFrame'>\n",
      "Int64Index: 57 entries, 12 to 248\n",
      "Data columns (total 10 columns):\n",
      " #   Column         Non-Null Count  Dtype  \n",
      "---  ------         --------------  -----  \n",
      " 0   TYPE           57 non-null     object \n",
      " 1   YEAR           57 non-null     int64  \n",
      " 2   MONTH          57 non-null     int64  \n",
      " 3   DAY            57 non-null     float64\n",
      " 4   HOUR           57 non-null     float64\n",
      " 5   MINUTE         57 non-null     float64\n",
      " 6   HUNDRED_BLOCK  57 non-null     object \n",
      " 7   NEIGHBOURHOOD  57 non-null     object \n",
      " 8   X              57 non-null     float64\n",
      " 9   Y              57 non-null     float64\n",
      "dtypes: float64(5), int64(2), object(3)\n",
      "memory usage: 4.9+ KB\n"
     ]
    }
   ],
   "source": [
    "late_crimes = df2[df2['HOUR']>18]\n",
    "late_crimes.info()"
   ]
  },
  {
   "cell_type": "code",
   "execution_count": 18,
   "metadata": {},
   "outputs": [
    {
     "data": {
      "text/plain": [
       "5    31\n",
       "Name: MONTH, dtype: int64"
      ]
     },
     "execution_count": 18,
     "metadata": {},
     "output_type": "execute_result"
    }
   ],
   "source": [
    "dangerous_month_crimes = df2.loc[:, 'MONTH'].value_counts().head(1)\n",
    "dangerous_month_crimes"
   ]
  }
 ],
 "metadata": {
  "kernelspec": {
   "display_name": "Python 3",
   "language": "python",
   "name": "python3"
  },
  "language_info": {
   "codemirror_mode": {
    "name": "ipython",
    "version": 3
   },
   "file_extension": ".py",
   "mimetype": "text/x-python",
   "name": "python",
   "nbconvert_exporter": "python",
   "pygments_lexer": "ipython3",
   "version": "3.10.4"
  },
  "orig_nbformat": 4,
  "vscode": {
   "interpreter": {
    "hash": "3ad933181bd8a04b432d3370b9dc3b0662ad032c4dfaa4e4f1596c548f763858"
   }
  }
 },
 "nbformat": 4,
 "nbformat_minor": 2
}
