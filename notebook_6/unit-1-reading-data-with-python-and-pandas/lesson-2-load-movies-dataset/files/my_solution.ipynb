{
 "cells": [
  {
   "cell_type": "code",
   "execution_count": 3,
   "metadata": {},
   "outputs": [],
   "source": [
    "import pandas as pd"
   ]
  },
  {
   "cell_type": "code",
   "execution_count": 9,
   "metadata": {},
   "outputs": [
    {
     "data": {
      "text/html": [
       "<div>\n",
       "<style scoped>\n",
       "    .dataframe tbody tr th:only-of-type {\n",
       "        vertical-align: middle;\n",
       "    }\n",
       "\n",
       "    .dataframe tbody tr th {\n",
       "        vertical-align: top;\n",
       "    }\n",
       "\n",
       "    .dataframe thead th {\n",
       "        text-align: right;\n",
       "    }\n",
       "</style>\n",
       "<table border=\"1\" class=\"dataframe\">\n",
       "  <thead>\n",
       "    <tr style=\"text-align: right;\">\n",
       "      <th></th>\n",
       "      <th>Color</th>\n",
       "      <th>Director Name</th>\n",
       "      <th>Num. critics for reviews</th>\n",
       "      <th>Duration</th>\n",
       "      <th>Gross</th>\n",
       "      <th>Movie Title</th>\n",
       "      <th>Num user for reviews</th>\n",
       "      <th>Country</th>\n",
       "      <th>Content Rating</th>\n",
       "      <th>Budget</th>\n",
       "      <th>Title Year</th>\n",
       "      <th>IMDB Score</th>\n",
       "      <th>Genres</th>\n",
       "    </tr>\n",
       "  </thead>\n",
       "  <tbody>\n",
       "    <tr>\n",
       "      <th>0</th>\n",
       "      <td>Color</td>\n",
       "      <td>James Cameron</td>\n",
       "      <td>723.0</td>\n",
       "      <td>178.0</td>\n",
       "      <td>760505847.0</td>\n",
       "      <td>Avatar</td>\n",
       "      <td>3054.0</td>\n",
       "      <td>USA</td>\n",
       "      <td>PG-13</td>\n",
       "      <td>237000000.0</td>\n",
       "      <td>2009.0</td>\n",
       "      <td>7.9</td>\n",
       "      <td>Action</td>\n",
       "    </tr>\n",
       "    <tr>\n",
       "      <th>1</th>\n",
       "      <td>Color</td>\n",
       "      <td>Gore Verbinski</td>\n",
       "      <td>302.0</td>\n",
       "      <td>169.0</td>\n",
       "      <td>309404152.0</td>\n",
       "      <td>Pirates of the Caribbean: At World's End</td>\n",
       "      <td>1238.0</td>\n",
       "      <td>USA</td>\n",
       "      <td>PG-13</td>\n",
       "      <td>300000000.0</td>\n",
       "      <td>2007.0</td>\n",
       "      <td>7.1</td>\n",
       "      <td>Action</td>\n",
       "    </tr>\n",
       "    <tr>\n",
       "      <th>2</th>\n",
       "      <td>Color</td>\n",
       "      <td>Sam Mendes</td>\n",
       "      <td>602.0</td>\n",
       "      <td>148.0</td>\n",
       "      <td>200074175.0</td>\n",
       "      <td>Spectre</td>\n",
       "      <td>994.0</td>\n",
       "      <td>UK</td>\n",
       "      <td>PG-13</td>\n",
       "      <td>245000000.0</td>\n",
       "      <td>2015.0</td>\n",
       "      <td>6.8</td>\n",
       "      <td>Action</td>\n",
       "    </tr>\n",
       "    <tr>\n",
       "      <th>3</th>\n",
       "      <td>Color</td>\n",
       "      <td>Christopher Nolan</td>\n",
       "      <td>813.0</td>\n",
       "      <td>164.0</td>\n",
       "      <td>448130642.0</td>\n",
       "      <td>The Dark Knight Rises</td>\n",
       "      <td>2701.0</td>\n",
       "      <td>USA</td>\n",
       "      <td>PG-13</td>\n",
       "      <td>250000000.0</td>\n",
       "      <td>2012.0</td>\n",
       "      <td>8.5</td>\n",
       "      <td>Action</td>\n",
       "    </tr>\n",
       "    <tr>\n",
       "      <th>4</th>\n",
       "      <td>NaN</td>\n",
       "      <td>Doug Walker</td>\n",
       "      <td>NaN</td>\n",
       "      <td>NaN</td>\n",
       "      <td>NaN</td>\n",
       "      <td>Star Wars: Episode VII - The Force Awakens    ...</td>\n",
       "      <td>NaN</td>\n",
       "      <td>NaN</td>\n",
       "      <td>NaN</td>\n",
       "      <td>NaN</td>\n",
       "      <td>NaN</td>\n",
       "      <td>7.1</td>\n",
       "      <td>Documentary</td>\n",
       "    </tr>\n",
       "  </tbody>\n",
       "</table>\n",
       "</div>"
      ],
      "text/plain": [
       "   Color      Director Name  Num. critics for reviews  Duration        Gross  \\\n",
       "0  Color      James Cameron                     723.0     178.0  760505847.0   \n",
       "1  Color     Gore Verbinski                     302.0     169.0  309404152.0   \n",
       "2  Color         Sam Mendes                     602.0     148.0  200074175.0   \n",
       "3  Color  Christopher Nolan                     813.0     164.0  448130642.0   \n",
       "4    NaN        Doug Walker                       NaN       NaN          NaN   \n",
       "\n",
       "                                         Movie Title  Num user for reviews  \\\n",
       "0                                            Avatar                 3054.0   \n",
       "1          Pirates of the Caribbean: At World's End                 1238.0   \n",
       "2                                           Spectre                  994.0   \n",
       "3                             The Dark Knight Rises                 2701.0   \n",
       "4  Star Wars: Episode VII - The Force Awakens    ...                   NaN   \n",
       "\n",
       "  Country Content Rating       Budget  Title Year  IMDB Score       Genres  \n",
       "0     USA          PG-13  237000000.0      2009.0         7.9       Action  \n",
       "1     USA          PG-13  300000000.0      2007.0         7.1       Action  \n",
       "2      UK          PG-13  245000000.0      2015.0         6.8       Action  \n",
       "3     USA          PG-13  250000000.0      2012.0         8.5       Action  \n",
       "4     NaN            NaN          NaN         NaN         7.1  Documentary  "
      ]
     },
     "execution_count": 9,
     "metadata": {},
     "output_type": "execute_result"
    }
   ],
   "source": [
    "df = pd.read_csv('movies.csv', \n",
    "    sep='|', \n",
    "    na_values='?', \n",
    "    names=['Color', 'Director Name', 'Num. critics for reviews', 'Duration', 'Gross', 'Movie Title', 'Num user for reviews', 'Country', 'Content Rating', 'Budget', 'Title Year', 'IMDB Score', 'Genres'],\n",
    "    thousands=',')\n",
    "df.head()"
   ]
  },
  {
   "cell_type": "code",
   "execution_count": 8,
   "metadata": {},
   "outputs": [
    {
     "data": {
      "text/plain": [
       "Color                        object\n",
       "Director Name                object\n",
       "Num. critics for reviews    float64\n",
       "Duration                    float64\n",
       "Gross                       float64\n",
       "Movie Title                  object\n",
       "Num user for reviews        float64\n",
       "Country                      object\n",
       "Content Rating               object\n",
       "Budget                      float64\n",
       "Title Year                  float64\n",
       "IMDB Score                  float64\n",
       "Genres                       object\n",
       "dtype: object"
      ]
     },
     "execution_count": 8,
     "metadata": {},
     "output_type": "execute_result"
    }
   ],
   "source": [
    "df.dtypes"
   ]
  }
 ],
 "metadata": {
  "kernelspec": {
   "display_name": "Python 3",
   "language": "python",
   "name": "python3"
  },
  "language_info": {
   "codemirror_mode": {
    "name": "ipython",
    "version": 3
   },
   "file_extension": ".py",
   "mimetype": "text/x-python",
   "name": "python",
   "nbconvert_exporter": "python",
   "pygments_lexer": "ipython3",
   "version": "3.10.4 (main, Nov 18 2022, 01:20:00) [GCC 9.4.0]"
  },
  "orig_nbformat": 4,
  "vscode": {
   "interpreter": {
    "hash": "3ad933181bd8a04b432d3370b9dc3b0662ad032c4dfaa4e4f1596c548f763858"
   }
  }
 },
 "nbformat": 4,
 "nbformat_minor": 2
}
